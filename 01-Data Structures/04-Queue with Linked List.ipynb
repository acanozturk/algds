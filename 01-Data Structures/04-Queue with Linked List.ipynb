{
 "cells": [
  {
   "cell_type": "code",
   "execution_count": 1,
   "metadata": {},
   "outputs": [],
   "source": [
    "class Node:\n",
    "    \n",
    "    def __init__(self, data):\n",
    "        \n",
    "        self.data = data\n",
    "        self.next = None\n",
    "        "
   ]
  },
  {
   "cell_type": "code",
   "execution_count": 49,
   "metadata": {},
   "outputs": [],
   "source": [
    "class Queue:\n",
    "    \n",
    "    def __init__(self):\n",
    "        \n",
    "        self.first = None\n",
    "        self.last = None\n",
    "        self.length = 0\n",
    "        \n",
    "    \n",
    "    def enqueue(self, enqueue_new_data):\n",
    "        \n",
    "        new_node = Node(enqueue_new_data)\n",
    "        \n",
    "        if self.first == None:\n",
    "            \n",
    "            self.first = new_node\n",
    "            self.last = self.first\n",
    "            self.length =+ 1\n",
    "            \n",
    "        else:\n",
    "            \n",
    "            self.last.next = new_node\n",
    "            self.last = new_node\n",
    "            self.length += 1\n",
    "    \n",
    "    \n",
    "    def dequeue(self):\n",
    "        \n",
    "        if not self.last:\n",
    "            \n",
    "            return None\n",
    "   \n",
    "        temp = self.first.next\n",
    "        dequeued_value = self.first\n",
    "\n",
    "        if temp == None:\n",
    "            \n",
    "            self.first = None\n",
    "            self.length -= 1\n",
    "            \n",
    "            return None\n",
    "        \n",
    "        self.first = temp\n",
    "        self.length -= 1\n",
    "        \n",
    "        return dequeued_value\n",
    "        \n",
    "    \n",
    "    def peek(self):\n",
    "        \n",
    "        return self.first.data\n",
    "    \n",
    "    \n",
    "    def print_queue(self):\n",
    "        \n",
    "        temp = self.first\n",
    "        \n",
    "        while temp != None:\n",
    "            \n",
    "            print(temp.data, end = '->')\n",
    "            temp = temp.next\n",
    "            \n",
    "        print(f\"\\nLength:{self.length}\")\n",
    "    "
   ]
  },
  {
   "cell_type": "code",
   "execution_count": 50,
   "metadata": {},
   "outputs": [],
   "source": [
    "test_queue = Queue()"
   ]
  },
  {
   "cell_type": "code",
   "execution_count": 51,
   "metadata": {},
   "outputs": [
    {
     "name": "stdout",
     "output_type": "stream",
     "text": [
      "1->2->3->\n",
      "Length:3\n"
     ]
    }
   ],
   "source": [
    "test_queue.enqueue(1)\n",
    "test_queue.enqueue(2)\n",
    "test_queue.enqueue(3)\n",
    "test_queue.print_queue()"
   ]
  },
  {
   "cell_type": "code",
   "execution_count": 52,
   "metadata": {},
   "outputs": [
    {
     "name": "stdout",
     "output_type": "stream",
     "text": [
      "2->3->\n",
      "Length:2\n"
     ]
    }
   ],
   "source": [
    "test_queue.dequeue()\n",
    "test_queue.print_queue()"
   ]
  },
  {
   "cell_type": "code",
   "execution_count": 53,
   "metadata": {},
   "outputs": [
    {
     "data": {
      "text/plain": [
       "2"
      ]
     },
     "execution_count": 53,
     "metadata": {},
     "output_type": "execute_result"
    }
   ],
   "source": [
    "test_queue.peek()"
   ]
  },
  {
   "cell_type": "code",
   "execution_count": null,
   "metadata": {},
   "outputs": [],
   "source": []
  },
  {
   "cell_type": "code",
   "execution_count": null,
   "metadata": {},
   "outputs": [],
   "source": []
  },
  {
   "cell_type": "code",
   "execution_count": null,
   "metadata": {},
   "outputs": [],
   "source": []
  },
  {
   "cell_type": "code",
   "execution_count": null,
   "metadata": {},
   "outputs": [],
   "source": []
  },
  {
   "cell_type": "code",
   "execution_count": null,
   "metadata": {},
   "outputs": [],
   "source": []
  },
  {
   "cell_type": "code",
   "execution_count": null,
   "metadata": {},
   "outputs": [],
   "source": []
  },
  {
   "cell_type": "code",
   "execution_count": null,
   "metadata": {},
   "outputs": [],
   "source": []
  }
 ],
 "metadata": {
  "kernelspec": {
   "display_name": "Python 3",
   "language": "python",
   "name": "python3"
  },
  "language_info": {
   "codemirror_mode": {
    "name": "ipython",
    "version": 3
   },
   "file_extension": ".py",
   "mimetype": "text/x-python",
   "name": "python",
   "nbconvert_exporter": "python",
   "pygments_lexer": "ipython3",
   "version": "3.7.7"
  }
 },
 "nbformat": 4,
 "nbformat_minor": 4
}
