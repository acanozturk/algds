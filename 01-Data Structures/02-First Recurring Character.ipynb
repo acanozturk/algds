{
 "cells": [
  {
   "cell_type": "code",
   "execution_count": 113,
   "metadata": {},
   "outputs": [],
   "source": [
    "class FindRecurrence:\n",
    "    \n",
    "    def __init__(self, array):\n",
    "        \n",
    "        self._array = array\n",
    "        self._buckets = len(array)\n",
    "        self._hash_map = [[] for each in range(self._buckets)]\n",
    "    \n",
    "    def _hash(self, key):\n",
    "        \n",
    "        return key % self._buckets\n",
    "    \n",
    "    \n",
    "    def _hash_table(self):\n",
    "        \n",
    "        for i in range(self._buckets):\n",
    "            \n",
    "            key = i\n",
    "            value = self._array[i]\n",
    "            \n",
    "            key_hash = self._hash(key)\n",
    "            reference = self._hash_map[key_hash]\n",
    "            \n",
    "            for i in range(len(reference)):\n",
    "    \n",
    "                if reference[i][0] == key:\n",
    "                    \n",
    "                    reference[i][1] = value\n",
    "                    \n",
    "            reference.append([key, value])\n",
    "                    \n",
    "                    \n",
    "    def find_reccurence(self):\n",
    "        \n",
    "        self._hash_table()\n",
    "        \n",
    "        values_list = []\n",
    "        \n",
    "        for i in range(self._buckets):\n",
    "            \n",
    "            if self._hash_map[i] != []:\n",
    "                \n",
    "                if self._hash_map[i][0][1] in values_list:\n",
    "                    \n",
    "                    values_list.append(self._hash_map[i][0][1])\n",
    "                    print(values_list)\n",
    "                    return(f\"First recurrence is: {self._hash_map[i][0][1]}\")\n",
    "                    break\n",
    "                \n",
    "                else:\n",
    "                    \n",
    "                    values_list.append(self._hash_map[i][0][1])\n",
    "                    print(values_list)\n",
    "\n",
    "               "
   ]
  },
  {
   "cell_type": "code",
   "execution_count": 116,
   "metadata": {},
   "outputs": [],
   "source": [
    "test_array = [1,2,3,4,5,[1,2],6,7,8,9,10,11,45,545,34,2,23,3]\n",
    "test_recurrence = FindRecurrence(test_array)"
   ]
  },
  {
   "cell_type": "code",
   "execution_count": 117,
   "metadata": {},
   "outputs": [
    {
     "name": "stdout",
     "output_type": "stream",
     "text": [
      "[1]\n",
      "[1, 2]\n",
      "[1, 2, 3]\n",
      "[1, 2, 3, 4]\n",
      "[1, 2, 3, 4, 5]\n",
      "[1, 2, 3, 4, 5, [1, 2]]\n",
      "[1, 2, 3, 4, 5, [1, 2], 6]\n",
      "[1, 2, 3, 4, 5, [1, 2], 6, 7]\n",
      "[1, 2, 3, 4, 5, [1, 2], 6, 7, 8]\n",
      "[1, 2, 3, 4, 5, [1, 2], 6, 7, 8, 9]\n",
      "[1, 2, 3, 4, 5, [1, 2], 6, 7, 8, 9, 10]\n",
      "[1, 2, 3, 4, 5, [1, 2], 6, 7, 8, 9, 10, 11]\n",
      "[1, 2, 3, 4, 5, [1, 2], 6, 7, 8, 9, 10, 11, 45]\n",
      "[1, 2, 3, 4, 5, [1, 2], 6, 7, 8, 9, 10, 11, 45, 545]\n",
      "[1, 2, 3, 4, 5, [1, 2], 6, 7, 8, 9, 10, 11, 45, 545, 34]\n",
      "[1, 2, 3, 4, 5, [1, 2], 6, 7, 8, 9, 10, 11, 45, 545, 34, 2]\n"
     ]
    },
    {
     "data": {
      "text/plain": [
       "'First recurrence is: 2'"
      ]
     },
     "execution_count": 117,
     "metadata": {},
     "output_type": "execute_result"
    }
   ],
   "source": [
    "test_recurrence.find_reccurence()"
   ]
  },
  {
   "cell_type": "code",
   "execution_count": null,
   "metadata": {},
   "outputs": [],
   "source": []
  },
  {
   "cell_type": "code",
   "execution_count": null,
   "metadata": {},
   "outputs": [],
   "source": []
  }
 ],
 "metadata": {
  "kernelspec": {
   "display_name": "Python 3",
   "language": "python",
   "name": "python3"
  },
  "language_info": {
   "codemirror_mode": {
    "name": "ipython",
    "version": 3
   },
   "file_extension": ".py",
   "mimetype": "text/x-python",
   "name": "python",
   "nbconvert_exporter": "python",
   "pygments_lexer": "ipython3",
   "version": "3.7.6"
  }
 },
 "nbformat": 4,
 "nbformat_minor": 4
}
