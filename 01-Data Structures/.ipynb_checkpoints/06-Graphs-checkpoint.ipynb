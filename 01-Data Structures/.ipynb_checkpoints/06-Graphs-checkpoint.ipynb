{
 "cells": [
  {
   "cell_type": "code",
   "execution_count": 29,
   "metadata": {},
   "outputs": [],
   "source": [
    "class Graph:\n",
    "    \n",
    "    def __init__(self):\n",
    "        \n",
    "        self.number_of_nodes = 0\n",
    "        self.adjacent_list = {}\n",
    "        \n",
    "        \n",
    "    def __str__(self):\n",
    "        \n",
    "        return str(self.__dict__)\n",
    "    \n",
    "    \n",
    "    def add_vertex(self, node):\n",
    "        \n",
    "        self.adjacent_list[node] = []\n",
    "        self.number_of_nodes += 1\n",
    "       \n",
    "    \n",
    "    def add_edge(self, node1, node2):\n",
    "        \n",
    "        self.adjacent_list[node1].append(node2)\n",
    "        self.adjacent_list[node2].append(node1)\n",
    "    \n",
    "    \n",
    "    def connections(self):\n",
    "        \n",
    "        for i in self.adjacent_list:\n",
    "            \n",
    "            print(i, end = '-->')\n",
    "            \n",
    "            for x in self.adjacent_list[i]:\n",
    "                \n",
    "                print(x, end = ' ')\n",
    "                \n",
    "            print()\n",
    "     "
   ]
  },
  {
   "cell_type": "code",
   "execution_count": 30,
   "metadata": {},
   "outputs": [],
   "source": [
    "graph = Graph()"
   ]
  },
  {
   "cell_type": "code",
   "execution_count": 31,
   "metadata": {},
   "outputs": [
    {
     "name": "stdout",
     "output_type": "stream",
     "text": [
      "0-->\n",
      "1-->\n",
      "2-->\n",
      "3-->\n",
      "4-->\n",
      "5-->\n",
      "6-->\n"
     ]
    }
   ],
   "source": [
    "graph.add_vertex('0')\n",
    "graph.add_vertex('1')\n",
    "graph.add_vertex('2')\n",
    "graph.add_vertex('3')\n",
    "graph.add_vertex('4')\n",
    "graph.add_vertex('5')\n",
    "graph.add_vertex('6')\n",
    "\n",
    "graph.connections()"
   ]
  },
  {
   "cell_type": "code",
   "execution_count": 32,
   "metadata": {},
   "outputs": [
    {
     "name": "stdout",
     "output_type": "stream",
     "text": [
      "0-->1 2 \n",
      "1-->3 2 0 \n",
      "2-->4 1 0 \n",
      "3-->1 4 \n",
      "4-->3 2 5 \n",
      "5-->4 6 \n",
      "6-->5 \n"
     ]
    }
   ],
   "source": [
    "graph.add_edge('3', '1')\n",
    "graph.add_edge('3', '4')\n",
    "graph.add_edge('4', '2') \n",
    "graph.add_edge('4', '5') \n",
    "graph.add_edge('1', '2') \n",
    "graph.add_edge('1', '0') \n",
    "graph.add_edge('0', '2') \n",
    "graph.add_edge('6', '5')\n",
    "\n",
    "graph.connections()"
   ]
  },
  {
   "cell_type": "code",
   "execution_count": 33,
   "metadata": {},
   "outputs": [
    {
     "name": "stdout",
     "output_type": "stream",
     "text": [
      "{'number_of_nodes': 7, 'adjacent_list': {'0': ['1', '2'], '1': ['3', '2', '0'], '2': ['4', '1', '0'], '3': ['1', '4'], '4': ['3', '2', '5'], '5': ['4', '6'], '6': ['5']}}\n"
     ]
    }
   ],
   "source": [
    "print(graph)"
   ]
  },
  {
   "cell_type": "code",
   "execution_count": null,
   "metadata": {},
   "outputs": [],
   "source": []
  },
  {
   "cell_type": "code",
   "execution_count": null,
   "metadata": {},
   "outputs": [],
   "source": []
  },
  {
   "cell_type": "code",
   "execution_count": null,
   "metadata": {},
   "outputs": [],
   "source": []
  },
  {
   "cell_type": "code",
   "execution_count": null,
   "metadata": {},
   "outputs": [],
   "source": []
  },
  {
   "cell_type": "code",
   "execution_count": null,
   "metadata": {},
   "outputs": [],
   "source": []
  },
  {
   "cell_type": "code",
   "execution_count": null,
   "metadata": {},
   "outputs": [],
   "source": []
  },
  {
   "cell_type": "code",
   "execution_count": null,
   "metadata": {},
   "outputs": [],
   "source": []
  },
  {
   "cell_type": "code",
   "execution_count": null,
   "metadata": {},
   "outputs": [],
   "source": []
  },
  {
   "cell_type": "code",
   "execution_count": null,
   "metadata": {},
   "outputs": [],
   "source": []
  },
  {
   "cell_type": "code",
   "execution_count": null,
   "metadata": {},
   "outputs": [],
   "source": []
  },
  {
   "cell_type": "code",
   "execution_count": null,
   "metadata": {},
   "outputs": [],
   "source": []
  }
 ],
 "metadata": {
  "kernelspec": {
   "display_name": "Python 3",
   "language": "python",
   "name": "python3"
  },
  "language_info": {
   "codemirror_mode": {
    "name": "ipython",
    "version": 3
   },
   "file_extension": ".py",
   "mimetype": "text/x-python",
   "name": "python",
   "nbconvert_exporter": "python",
   "pygments_lexer": "ipython3",
   "version": "3.7.7"
  }
 },
 "nbformat": 4,
 "nbformat_minor": 4
}
