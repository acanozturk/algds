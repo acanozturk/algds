{
 "cells": [
  {
   "cell_type": "code",
   "execution_count": 13,
   "metadata": {},
   "outputs": [],
   "source": [
    "class Node:\n",
    "    \n",
    "    def __init__(self, data):\n",
    "        \n",
    "        self.data = data\n",
    "        self.next = None\n",
    "        "
   ]
  },
  {
   "cell_type": "code",
   "execution_count": 35,
   "metadata": {},
   "outputs": [],
   "source": [
    "class Stack:\n",
    "    \n",
    "    def __init__(self):\n",
    "        \n",
    "        self.top = None\n",
    "        self.bottom = None\n",
    "        self.length = 0\n",
    "        \n",
    "        \n",
    "    def push(self, push_new_data):\n",
    "        \n",
    "        push_new_node = Node(push_new_data)\n",
    "        \n",
    "        if self.bottom == None:\n",
    "            \n",
    "            self.bottom = push_new_node\n",
    "            self.top = self.bottom\n",
    "            self.length += 1\n",
    "\n",
    "        else:\n",
    "            \n",
    "            push_new_node.next = self.top\n",
    "            self.top = push_new_node\n",
    "            self.length += 1\n",
    "            \n",
    "        \n",
    "    def pop(self):\n",
    "        \n",
    "        if not self.top:\n",
    "\n",
    "            return None\n",
    "        \n",
    "        holder = self.top\n",
    "        self.top = self.top.next\n",
    "        self.length -= 1\n",
    "        \n",
    "        if self.length == 0:\n",
    "            \n",
    "            self.bottom = None\n",
    "            \n",
    "        return holder.data\n",
    "    \n",
    "    \n",
    "    def peek(self):\n",
    "        \n",
    "        return self.top.data\n",
    "    \n",
    "    \n",
    "    def print_items(self):\n",
    "        \n",
    "        print_temp = self.top\n",
    "        \n",
    "        while print_temp != None:\n",
    "            \n",
    "            print({print_temp.data}, end = '->')\n",
    "            print_temp = print_temp.next\n",
    "            \n",
    "        print(f\"\\nLength:{self.length}\")  \n"
   ]
  },
  {
   "cell_type": "code",
   "execution_count": 36,
   "metadata": {},
   "outputs": [],
   "source": [
    "test_stack = Stack()"
   ]
  },
  {
   "cell_type": "code",
   "execution_count": 37,
   "metadata": {},
   "outputs": [
    {
     "name": "stdout",
     "output_type": "stream",
     "text": [
      "\n",
      "Length:0\n"
     ]
    }
   ],
   "source": [
    "test_stack.print_items()"
   ]
  },
  {
   "cell_type": "code",
   "execution_count": 38,
   "metadata": {},
   "outputs": [
    {
     "name": "stdout",
     "output_type": "stream",
     "text": [
      "{5}->{4}->{3}->{2}->{1}->\n",
      "Length:5\n"
     ]
    }
   ],
   "source": [
    "test_stack.push(1)\n",
    "test_stack.push(2)\n",
    "test_stack.push(3)\n",
    "test_stack.push(4)\n",
    "test_stack.push(5)\n",
    "test_stack.print_items()"
   ]
  },
  {
   "cell_type": "code",
   "execution_count": 39,
   "metadata": {},
   "outputs": [
    {
     "data": {
      "text/plain": [
       "5"
      ]
     },
     "execution_count": 39,
     "metadata": {},
     "output_type": "execute_result"
    }
   ],
   "source": [
    "test_stack.peek()"
   ]
  },
  {
   "cell_type": "code",
   "execution_count": 41,
   "metadata": {},
   "outputs": [
    {
     "name": "stdout",
     "output_type": "stream",
     "text": [
      "{3}->{2}->{1}->\n",
      "Length:3\n"
     ]
    }
   ],
   "source": [
    "test_stack.pop()\n",
    "test_stack.print_items()"
   ]
  },
  {
   "cell_type": "code",
   "execution_count": null,
   "metadata": {},
   "outputs": [],
   "source": []
  },
  {
   "cell_type": "code",
   "execution_count": null,
   "metadata": {},
   "outputs": [],
   "source": []
  },
  {
   "cell_type": "code",
   "execution_count": null,
   "metadata": {},
   "outputs": [],
   "source": []
  },
  {
   "cell_type": "code",
   "execution_count": null,
   "metadata": {},
   "outputs": [],
   "source": []
  },
  {
   "cell_type": "code",
   "execution_count": null,
   "metadata": {},
   "outputs": [],
   "source": []
  },
  {
   "cell_type": "code",
   "execution_count": null,
   "metadata": {},
   "outputs": [],
   "source": []
  },
  {
   "cell_type": "code",
   "execution_count": null,
   "metadata": {},
   "outputs": [],
   "source": []
  },
  {
   "cell_type": "code",
   "execution_count": null,
   "metadata": {},
   "outputs": [],
   "source": []
  },
  {
   "cell_type": "code",
   "execution_count": null,
   "metadata": {},
   "outputs": [],
   "source": []
  }
 ],
 "metadata": {
  "kernelspec": {
   "display_name": "Python 3",
   "language": "python",
   "name": "python3"
  },
  "language_info": {
   "codemirror_mode": {
    "name": "ipython",
    "version": 3
   },
   "file_extension": ".py",
   "mimetype": "text/x-python",
   "name": "python",
   "nbconvert_exporter": "python",
   "pygments_lexer": "ipython3",
   "version": "3.7.7"
  }
 },
 "nbformat": 4,
 "nbformat_minor": 4
}
