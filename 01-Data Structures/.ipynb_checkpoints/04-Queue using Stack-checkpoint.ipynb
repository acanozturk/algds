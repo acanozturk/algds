{
 "cells": [
  {
   "cell_type": "code",
   "execution_count": 125,
   "metadata": {},
   "outputs": [],
   "source": [
    "class QueueStack:\n",
    "    \n",
    "    def __init__(self):\n",
    "        \n",
    "        self.first = []\n",
    "        self.last = []\n",
    "        \n",
    "    \n",
    "    def __str__(self):\n",
    "        \n",
    "        return str(self.__dict__)\n",
    "\n",
    "    \n",
    "    def push(self, new_data):\n",
    "        \n",
    "        if len(self.first) != 2:\n",
    "            \n",
    "            self.first.append(new_data)\n",
    "        \n",
    "        else:\n",
    "            \n",
    "            self.last.append(new_data)\n",
    "            \n",
    "      \n",
    "    def pop(self):\n",
    "        \n",
    "        if self.first != []:\n",
    "            \n",
    "            popped = self.first[0]\n",
    "            del self.first[0]\n",
    "            print(f\"Popped item:{popped}\")\n",
    "            self.move()\n",
    "    \n",
    "            self.empty()\n",
    "        \n",
    "        \n",
    "    def peek(self):\n",
    "        \n",
    "        return self.first[0]\n",
    "            \n",
    "        \n",
    "    def move(self):\n",
    "        \n",
    "        if self.last != []:\n",
    "            \n",
    "            move_item = self.last[0]\n",
    "            del self.last[0]\n",
    "            self.first.append(move_item)       \n",
    "            \n",
    "    \n",
    "    def empty(self):\n",
    "        \n",
    "        return self.first == [] \n",
    "    "
   ]
  },
  {
   "cell_type": "code",
   "execution_count": 126,
   "metadata": {},
   "outputs": [],
   "source": [
    "test = QueueStack()"
   ]
  },
  {
   "cell_type": "code",
   "execution_count": 127,
   "metadata": {},
   "outputs": [
    {
     "name": "stdout",
     "output_type": "stream",
     "text": [
      "{'first': [1, 2], 'last': [3]}\n"
     ]
    }
   ],
   "source": [
    "test.push(1)\n",
    "test.push(2)\n",
    "test.push(3)\n",
    "print(test)"
   ]
  },
  {
   "cell_type": "code",
   "execution_count": 128,
   "metadata": {},
   "outputs": [
    {
     "data": {
      "text/plain": [
       "1"
      ]
     },
     "execution_count": 128,
     "metadata": {},
     "output_type": "execute_result"
    }
   ],
   "source": [
    "test.peek()"
   ]
  },
  {
   "cell_type": "code",
   "execution_count": 129,
   "metadata": {},
   "outputs": [
    {
     "data": {
      "text/plain": [
       "False"
      ]
     },
     "execution_count": 129,
     "metadata": {},
     "output_type": "execute_result"
    }
   ],
   "source": [
    "test.empty()"
   ]
  },
  {
   "cell_type": "code",
   "execution_count": 130,
   "metadata": {},
   "outputs": [
    {
     "name": "stdout",
     "output_type": "stream",
     "text": [
      "Popped item:1\n",
      "{'first': [2, 3], 'last': []}\n"
     ]
    }
   ],
   "source": [
    "test.pop()\n",
    "print(test)"
   ]
  },
  {
   "cell_type": "code",
   "execution_count": 131,
   "metadata": {},
   "outputs": [
    {
     "name": "stdout",
     "output_type": "stream",
     "text": [
      "{'first': [2, 3], 'last': [4, 5, 6]}\n"
     ]
    }
   ],
   "source": [
    "test.push(4)\n",
    "test.push(5)\n",
    "test.push(6)\n",
    "print(test)"
   ]
  },
  {
   "cell_type": "code",
   "execution_count": 124,
   "metadata": {},
   "outputs": [
    {
     "name": "stdout",
     "output_type": "stream",
     "text": [
      "Popped item:6\n",
      "{'first': [], 'last': []}\n"
     ]
    }
   ],
   "source": [
    "test.pop()\n",
    "print(test)"
   ]
  }
 ],
 "metadata": {
  "kernelspec": {
   "display_name": "Python 3",
   "language": "python",
   "name": "python3"
  },
  "language_info": {
   "codemirror_mode": {
    "name": "ipython",
    "version": 3
   },
   "file_extension": ".py",
   "mimetype": "text/x-python",
   "name": "python",
   "nbconvert_exporter": "python",
   "pygments_lexer": "ipython3",
   "version": "3.7.7"
  }
 },
 "nbformat": 4,
 "nbformat_minor": 4
}
