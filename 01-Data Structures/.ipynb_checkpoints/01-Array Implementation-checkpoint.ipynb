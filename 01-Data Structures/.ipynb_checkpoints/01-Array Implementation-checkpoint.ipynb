{
 "cells": [
  {
   "cell_type": "code",
   "execution_count": 220,
   "metadata": {},
   "outputs": [],
   "source": [
    "class Array():\n",
    "    \n",
    "    def __init__(self):\n",
    "        \n",
    "        self.length = 0\n",
    "        self.data = {}\n",
    "    \n",
    "    \n",
    "    def __str__(self):\n",
    "        \n",
    "        return str(self.__dict__)\n",
    "        \n",
    "        \n",
    "    def get(self, index):\n",
    "        \n",
    "        return self.data[index]\n",
    "   \n",
    "\n",
    "    def push(self, item):\n",
    "        \n",
    "        self.data[self.length] = item   \n",
    "        self.length += 1    \n",
    "       \n",
    "    \n",
    "    def pop(self):\n",
    "        \n",
    "        last_item = self.data[self.length - 1]\n",
    "        del self.data[self.length - 1]\n",
    "        self.length -=1\n",
    "        \n",
    "        return last_item\n",
    "    \n",
    "    def delete(self, index):\n",
    "        \n",
    "        deleted_item = self.data[index]\n",
    "        \n",
    "        for i in range(index, self.length-1):\n",
    "            self.data[i] = self.data[i+1]\n",
    "        \n",
    "        del self.data[self.length-1]\n",
    "        self.length -=1\n",
    "        \n",
    "        return deleted_item\n",
    "    "
   ]
  },
  {
   "cell_type": "code",
   "execution_count": 221,
   "metadata": {},
   "outputs": [],
   "source": [
    "arr1 = Array()"
   ]
  },
  {
   "cell_type": "code",
   "execution_count": 222,
   "metadata": {},
   "outputs": [
    {
     "name": "stdout",
     "output_type": "stream",
     "text": [
      "{'length': 0, 'data': {}}\n"
     ]
    }
   ],
   "source": [
    "print(arr1)"
   ]
  },
  {
   "cell_type": "code",
   "execution_count": 223,
   "metadata": {},
   "outputs": [
    {
     "name": "stdout",
     "output_type": "stream",
     "text": [
      "{'length': 1, 'data': {0: 'hi'}}\n"
     ]
    }
   ],
   "source": [
    "arr1.push(\"hi\")\n",
    "print(arr1)"
   ]
  },
  {
   "cell_type": "code",
   "execution_count": 224,
   "metadata": {},
   "outputs": [
    {
     "name": "stdout",
     "output_type": "stream",
     "text": [
      "{'length': 2, 'data': {0: 'hi', 1: 'bye'}}\n"
     ]
    }
   ],
   "source": [
    "arr1.push(\"bye\")\n",
    "print(arr1)"
   ]
  },
  {
   "cell_type": "code",
   "execution_count": 225,
   "metadata": {},
   "outputs": [
    {
     "name": "stdout",
     "output_type": "stream",
     "text": [
      "{'length': 3, 'data': {0: 'hi', 1: 'bye', 2: 'rörö'}}\n"
     ]
    }
   ],
   "source": [
    "arr1.push(\"rörö\")\n",
    "print(arr1)"
   ]
  },
  {
   "cell_type": "code",
   "execution_count": 226,
   "metadata": {},
   "outputs": [
    {
     "data": {
      "text/plain": [
       "'rörö'"
      ]
     },
     "execution_count": 226,
     "metadata": {},
     "output_type": "execute_result"
    }
   ],
   "source": [
    "arr1.pop()"
   ]
  },
  {
   "cell_type": "code",
   "execution_count": 227,
   "metadata": {},
   "outputs": [
    {
     "name": "stdout",
     "output_type": "stream",
     "text": [
      "{'length': 2, 'data': {0: 'hi', 1: 'bye'}}\n"
     ]
    }
   ],
   "source": [
    "print(arr1)"
   ]
  },
  {
   "cell_type": "code",
   "execution_count": 228,
   "metadata": {},
   "outputs": [
    {
     "data": {
      "text/plain": [
       "'bye'"
      ]
     },
     "execution_count": 228,
     "metadata": {},
     "output_type": "execute_result"
    }
   ],
   "source": [
    "arr1.get(1)"
   ]
  },
  {
   "cell_type": "code",
   "execution_count": 229,
   "metadata": {},
   "outputs": [
    {
     "name": "stdout",
     "output_type": "stream",
     "text": [
      "bye\n"
     ]
    },
    {
     "data": {
      "text/plain": [
       "'hi'"
      ]
     },
     "execution_count": 229,
     "metadata": {},
     "output_type": "execute_result"
    }
   ],
   "source": [
    "arr1.delete(0)"
   ]
  },
  {
   "cell_type": "code",
   "execution_count": 230,
   "metadata": {},
   "outputs": [
    {
     "name": "stdout",
     "output_type": "stream",
     "text": [
      "{'length': 1, 'data': {0: 'bye'}}\n"
     ]
    }
   ],
   "source": [
    "print(arr1)"
   ]
  },
  {
   "cell_type": "code",
   "execution_count": 231,
   "metadata": {},
   "outputs": [
    {
     "data": {
      "text/plain": [
       "'bye'"
      ]
     },
     "execution_count": 231,
     "metadata": {},
     "output_type": "execute_result"
    }
   ],
   "source": [
    "arr1.get(0)"
   ]
  },
  {
   "cell_type": "code",
   "execution_count": null,
   "metadata": {},
   "outputs": [],
   "source": []
  },
  {
   "cell_type": "code",
   "execution_count": null,
   "metadata": {},
   "outputs": [],
   "source": []
  }
 ],
 "metadata": {
  "kernelspec": {
   "display_name": "Python 3",
   "language": "python",
   "name": "python3"
  },
  "language_info": {
   "codemirror_mode": {
    "name": "ipython",
    "version": 3
   },
   "file_extension": ".py",
   "mimetype": "text/x-python",
   "name": "python",
   "nbconvert_exporter": "python",
   "pygments_lexer": "ipython3",
   "version": "3.7.6"
  }
 },
 "nbformat": 4,
 "nbformat_minor": 4
}
