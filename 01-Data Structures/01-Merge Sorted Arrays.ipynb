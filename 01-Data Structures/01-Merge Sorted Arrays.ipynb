{
 "cells": [
  {
   "cell_type": "code",
   "execution_count": 44,
   "metadata": {},
   "outputs": [],
   "source": [
    "def merge_arrays_sorted(*args):\n",
    "    \n",
    "    concat_arrays = []\n",
    "\n",
    "    for array in args:\n",
    "        \n",
    "        if len(array) != 0 and type(array[0]) == type(int()):\n",
    "            concat_arrays.extend(array)\n",
    "         \n",
    "        else:\n",
    "            return \"Arrays neither be empty nor contain non-integer values\"\n",
    "        \n",
    "    concat_arrays.sort()\n",
    "    return concat_arrays\n",
    "               "
   ]
  },
  {
   "cell_type": "code",
   "execution_count": null,
   "metadata": {},
   "outputs": [],
   "source": [
    "arr1 = [1,2,3]\n",
    "arr2 = [-1,0,4]"
   ]
  },
  {
   "cell_type": "code",
   "execution_count": 89,
   "metadata": {},
   "outputs": [
    {
     "data": {
      "text/plain": [
       "[-1, 0, 1, 2, 3, 4]"
      ]
     },
     "execution_count": 89,
     "metadata": {},
     "output_type": "execute_result"
    }
   ],
   "source": [
    "merge_arrays_sorted(arr1,arr2)"
   ]
  },
  {
   "cell_type": "code",
   "execution_count": 86,
   "metadata": {},
   "outputs": [],
   "source": [
    "def merge_2_sorted_arrays(arr1,arr2):\n",
    "    \n",
    "    if len(arr1) == 0 or len(arr2) == 0:\n",
    "        return arr1 + arr2\n",
    "    \n",
    "    mylist=[]\n",
    "    \n",
    "    i=0\n",
    "    j=0\n",
    "    \n",
    "    while i < len(arr1) and j < len(arr2):\n",
    "\n",
    "        if arr1[i] <= arr2[j]:\n",
    "            \n",
    "            mylist.append(arr1[i])\n",
    "            i+=1\n",
    "            \n",
    "        elif arr2[j] < arr1[i]:\n",
    "            \n",
    "            mylist.append(arr2[j])\n",
    "            j+=1\n",
    "\n",
    "        return mylist + arr1[i:] + arr2[j:]\n"
   ]
  },
  {
   "cell_type": "code",
   "execution_count": 88,
   "metadata": {},
   "outputs": [
    {
     "data": {
      "text/plain": [
       "[-1, 1, 2, 3, 0, 4]"
      ]
     },
     "execution_count": 88,
     "metadata": {},
     "output_type": "execute_result"
    }
   ],
   "source": [
    "merge_2_sorted_arrays(arr1,arr2)"
   ]
  },
  {
   "cell_type": "code",
   "execution_count": null,
   "metadata": {},
   "outputs": [],
   "source": []
  },
  {
   "cell_type": "code",
   "execution_count": null,
   "metadata": {},
   "outputs": [],
   "source": []
  },
  {
   "cell_type": "code",
   "execution_count": null,
   "metadata": {},
   "outputs": [],
   "source": []
  },
  {
   "cell_type": "code",
   "execution_count": null,
   "metadata": {},
   "outputs": [],
   "source": []
  }
 ],
 "metadata": {
  "kernelspec": {
   "display_name": "Python 3",
   "language": "python",
   "name": "python3"
  },
  "language_info": {
   "codemirror_mode": {
    "name": "ipython",
    "version": 3
   },
   "file_extension": ".py",
   "mimetype": "text/x-python",
   "name": "python",
   "nbconvert_exporter": "python",
   "pygments_lexer": "ipython3",
   "version": "3.7.6"
  }
 },
 "nbformat": 4,
 "nbformat_minor": 4
}
