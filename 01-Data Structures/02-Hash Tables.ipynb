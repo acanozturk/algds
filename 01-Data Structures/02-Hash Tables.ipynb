{
 "cells": [
  {
   "cell_type": "code",
   "execution_count": 81,
   "metadata": {},
   "outputs": [],
   "source": [
    "class HashTable:\n",
    "    \n",
    "    \n",
    "    def __init__(self, buckets):\n",
    "        \n",
    "        self.buckets = buckets\n",
    "        self.hash_map = [[] for i in range(self.buckets)]\n",
    "    \n",
    "    \n",
    "    def __str__(self):\n",
    "        \n",
    "        return str(self.__dict__)\n",
    "    \n",
    "    \n",
    "    def put(self, key, value):\n",
    "        \n",
    "        key_hash = self._hash(key)\n",
    "        reference = self.hash_map[key_hash]\n",
    "        \n",
    "        for i in range(len(reference)):\n",
    "            \n",
    "            if reference[i][0] == key:\n",
    "                \n",
    "                reference[i][1] = value\n",
    "                \n",
    "        reference.append([key, value])\n",
    "        \n",
    "        \n",
    "    def get(self, key):\n",
    "        \n",
    "        key_hash = self._hash(key)\n",
    "        reference = self.hash_map[key_hash]\n",
    "        \n",
    "        for i in range(len(reference)):\n",
    "            \n",
    "            if reference[i][0] == key:\n",
    "                \n",
    "                return reference[i][1]\n",
    "            \n",
    "    \n",
    "    def remove(self, key):\n",
    "        \n",
    "        key_hash = self._hash(key)\n",
    "        reference = self.hash_map[key_hash]\n",
    "        \n",
    "        for i in range(len(reference)):\n",
    "            \n",
    "            if reference[i][0] == key:\n",
    "                \n",
    "                reference.pop(i)\n",
    "                \n",
    "    \n",
    "    def get_keys(self):\n",
    "        \n",
    "        keys_list = []\n",
    "        \n",
    "        for i in range(self.buckets):\n",
    "            \n",
    "            if self.hash_map[i] != []:\n",
    "                \n",
    "                keys_list.append(self.hash_map[i][0][0])\n",
    "            \n",
    "        return keys_list    \n",
    "    \n",
    "        \n",
    "    def get_values(self):\n",
    "        \n",
    "        values_list = []\n",
    "        \n",
    "        for i in range(self.buckets):\n",
    "            \n",
    "            if self.hash_map[i] != []:\n",
    "                \n",
    "                values_list.append(self.hash_map[i][0][1])\n",
    "            \n",
    "        return values_list    \n",
    "    \n",
    "    \n",
    "    def _hash(self, key):\n",
    "          \n",
    "        return len(key) % self.buckets\n",
    "        "
   ]
  },
  {
   "cell_type": "code",
   "execution_count": 82,
   "metadata": {},
   "outputs": [],
   "source": [
    "test = HashTable(18)"
   ]
  },
  {
   "cell_type": "code",
   "execution_count": 83,
   "metadata": {},
   "outputs": [
    {
     "name": "stdout",
     "output_type": "stream",
     "text": [
      "{'buckets': 18, 'hash_map': [[], [], [], [], [], [], [], [], [], [], [], [], [], [], [], [], [], []]}\n"
     ]
    }
   ],
   "source": [
    "print(test)"
   ]
  },
  {
   "cell_type": "code",
   "execution_count": 84,
   "metadata": {},
   "outputs": [],
   "source": [
    "test.put(\"test_key\",\"test_value\")\n",
    "test.put(\"test_key2\",\"test_value2\")"
   ]
  },
  {
   "cell_type": "code",
   "execution_count": 85,
   "metadata": {},
   "outputs": [
    {
     "name": "stdout",
     "output_type": "stream",
     "text": [
      "{'buckets': 18, 'hash_map': [[], [], [], [], [], [], [], [], [['test_key', 'test_value']], [['test_key2', 'test_value2']], [], [], [], [], [], [], [], []]}\n"
     ]
    }
   ],
   "source": [
    "print(test)"
   ]
  },
  {
   "cell_type": "code",
   "execution_count": 86,
   "metadata": {},
   "outputs": [
    {
     "data": {
      "text/plain": [
       "'test_value'"
      ]
     },
     "execution_count": 86,
     "metadata": {},
     "output_type": "execute_result"
    }
   ],
   "source": [
    "test.get(\"test_key\")"
   ]
  },
  {
   "cell_type": "code",
   "execution_count": 87,
   "metadata": {},
   "outputs": [
    {
     "data": {
      "text/plain": [
       "['test_key', 'test_key2']"
      ]
     },
     "execution_count": 87,
     "metadata": {},
     "output_type": "execute_result"
    }
   ],
   "source": [
    "test.get_keys()"
   ]
  },
  {
   "cell_type": "code",
   "execution_count": 88,
   "metadata": {},
   "outputs": [
    {
     "data": {
      "text/plain": [
       "['test_value', 'test_value2']"
      ]
     },
     "execution_count": 88,
     "metadata": {},
     "output_type": "execute_result"
    }
   ],
   "source": [
    "test.get_values()"
   ]
  },
  {
   "cell_type": "code",
   "execution_count": 89,
   "metadata": {},
   "outputs": [],
   "source": [
    "test.remove(\"test_key\")"
   ]
  },
  {
   "cell_type": "code",
   "execution_count": 90,
   "metadata": {},
   "outputs": [
    {
     "name": "stdout",
     "output_type": "stream",
     "text": [
      "{'buckets': 18, 'hash_map': [[], [], [], [], [], [], [], [], [], [['test_key2', 'test_value2']], [], [], [], [], [], [], [], []]}\n"
     ]
    }
   ],
   "source": [
    "print(test)"
   ]
  },
  {
   "cell_type": "code",
   "execution_count": null,
   "metadata": {},
   "outputs": [],
   "source": []
  },
  {
   "cell_type": "code",
   "execution_count": null,
   "metadata": {},
   "outputs": [],
   "source": []
  },
  {
   "cell_type": "code",
   "execution_count": null,
   "metadata": {},
   "outputs": [],
   "source": []
  },
  {
   "cell_type": "code",
   "execution_count": null,
   "metadata": {},
   "outputs": [],
   "source": []
  },
  {
   "cell_type": "code",
   "execution_count": null,
   "metadata": {},
   "outputs": [],
   "source": []
  },
  {
   "cell_type": "code",
   "execution_count": null,
   "metadata": {},
   "outputs": [],
   "source": []
  },
  {
   "cell_type": "code",
   "execution_count": null,
   "metadata": {},
   "outputs": [],
   "source": []
  },
  {
   "cell_type": "code",
   "execution_count": null,
   "metadata": {},
   "outputs": [],
   "source": []
  },
  {
   "cell_type": "code",
   "execution_count": null,
   "metadata": {},
   "outputs": [],
   "source": []
  }
 ],
 "metadata": {
  "kernelspec": {
   "display_name": "Python 3",
   "language": "python",
   "name": "python3"
  },
  "language_info": {
   "codemirror_mode": {
    "name": "ipython",
    "version": 3
   },
   "file_extension": ".py",
   "mimetype": "text/x-python",
   "name": "python",
   "nbconvert_exporter": "python",
   "pygments_lexer": "ipython3",
   "version": "3.7.6"
  }
 },
 "nbformat": 4,
 "nbformat_minor": 4
}
