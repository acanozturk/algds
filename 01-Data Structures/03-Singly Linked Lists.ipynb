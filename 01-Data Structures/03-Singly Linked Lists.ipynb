{
 "cells": [
  {
   "cell_type": "code",
   "execution_count": 14,
   "metadata": {},
   "outputs": [],
   "source": [
    "class Node:\n",
    "    \n",
    "    def __init__(self, data):\n",
    "        \n",
    "        self.data = data\n",
    "        self.next = None\n",
    "            "
   ]
  },
  {
   "cell_type": "code",
   "execution_count": 58,
   "metadata": {},
   "outputs": [],
   "source": [
    "class LinkedList:\n",
    "    \n",
    "    def __init__(self):\n",
    "        \n",
    "        self.head = None\n",
    "        self.tail = None\n",
    "  \n",
    "    \n",
    "    def append(self, append_new_data):\n",
    "        \n",
    "        append_new_node = Node(append_new_data)\n",
    "        \n",
    "        if self.head == None:\n",
    "            \n",
    "            self.head = append_new_node\n",
    "            self.tail = self.head\n",
    "            self.length = 1\n",
    "            \n",
    "        else:\n",
    "            \n",
    "            self.tail.next = append_new_node\n",
    "            self.tail = append_new_node\n",
    "            self.length += 1\n",
    "        \n",
    "    \n",
    "    def prepend(self, prepend_new_data):\n",
    "        \n",
    "        prepend_new_node = Node(prepend_new_data)\n",
    "    \n",
    "        prepend_new_node.next = self.head\n",
    "        self.head = prepend_new_node\n",
    "        self.length += 1\n",
    "            \n",
    "     \n",
    "    def insert(self, insert_index, insert_new_data):\n",
    "        \n",
    "        insert_new_node = Node(insert_new_data)\n",
    "        \n",
    "        i = 0\n",
    "        insert_temp = self.head\n",
    "        \n",
    "        if insert_index > self.length:\n",
    "            \n",
    "            self.append(insert_new_data)\n",
    "            return\n",
    "            \n",
    "        if insert_index == 0:\n",
    "            \n",
    "            self.prepend(insert_new_data)\n",
    "            return\n",
    "            \n",
    "        while i < self.length:\n",
    "            \n",
    "            if i == insert_index - 1:\n",
    "                \n",
    "                insert_temp.next, insert_new_node.next = insert_new_node, insert_temp.next\n",
    "                self.length += 1\n",
    "                break\n",
    "            \n",
    "            insert_temp = insert_temp.next\n",
    "            i += 1\n",
    "            \n",
    "    \n",
    "    def remove(self, remove_index):\n",
    "        \n",
    "        i = 0\n",
    "        remove_temp = self.head\n",
    "        \n",
    "        if remove_index == 0:\n",
    "            \n",
    "            self.head = self.head.next\n",
    "            self.length -= 1\n",
    "            return\n",
    "        \n",
    "        if remove_index >= self.length:\n",
    "            \n",
    "            return \"Index out of bounds\"\n",
    "        \n",
    "        while i < self.length:\n",
    "            \n",
    "            if i == remove_index - 1:\n",
    "                \n",
    "                remove_temp.next = remove_temp.next.next\n",
    "                self.length -= 1\n",
    "                break\n",
    "    \n",
    "            i += 1\n",
    "            remove_temp = remove_temp.next    \n",
    "    \n",
    "    def reverse(self):\n",
    "        \n",
    "        previous_node = None\n",
    "        self.tail = self.head\n",
    "        \n",
    "        while self.head != None:\n",
    "            \n",
    "            temp = self.head\n",
    "            self.head = self.head.next\n",
    "            temp.next = previous_node\n",
    "            previous_node = temp\n",
    "            \n",
    "        self.head = temp    \n",
    "        \n",
    "        \n",
    "    def print_linked_list(self):\n",
    "        \n",
    "        print_temp = self.head\n",
    "        \n",
    "        while print_temp != None:\n",
    "            \n",
    "            print(print_temp.data, end = ' ')\n",
    "            print_temp = print_temp.next\n",
    "            \n",
    "        print(f\"\\nLength = {self.length}\")\n"
   ]
  },
  {
   "cell_type": "code",
   "execution_count": 68,
   "metadata": {},
   "outputs": [],
   "source": [
    "test_LinkedList = LinkedList()"
   ]
  },
  {
   "cell_type": "code",
   "execution_count": 69,
   "metadata": {},
   "outputs": [],
   "source": [
    "test_LinkedList.append(1)\n",
    "test_LinkedList.append(\"2\")\n",
    "test_LinkedList.append(\"3\")\n",
    "test_LinkedList.append(\"4\")"
   ]
  },
  {
   "cell_type": "code",
   "execution_count": 70,
   "metadata": {},
   "outputs": [
    {
     "name": "stdout",
     "output_type": "stream",
     "text": [
      "1 2 3 4 \n",
      "Length = 4\n"
     ]
    }
   ],
   "source": [
    "test_LinkedList.print_linked_list()"
   ]
  },
  {
   "cell_type": "code",
   "execution_count": 71,
   "metadata": {},
   "outputs": [
    {
     "name": "stdout",
     "output_type": "stream",
     "text": [
      "a 1 2 3 4 \n",
      "Length = 5\n"
     ]
    }
   ],
   "source": [
    "test_LinkedList.prepend(\"a\")\n",
    "test_LinkedList.print_linked_list()"
   ]
  },
  {
   "cell_type": "code",
   "execution_count": 72,
   "metadata": {},
   "outputs": [
    {
     "name": "stdout",
     "output_type": "stream",
     "text": [
      "a 1 2 b 3 4 \n",
      "Length = 6\n"
     ]
    }
   ],
   "source": [
    "test_LinkedList.insert(3, \"b\")\n",
    "test_LinkedList.print_linked_list()"
   ]
  },
  {
   "cell_type": "code",
   "execution_count": 73,
   "metadata": {},
   "outputs": [
    {
     "name": "stdout",
     "output_type": "stream",
     "text": [
      "a 1 b 3 4 \n",
      "Length = 5\n"
     ]
    }
   ],
   "source": [
    "test_LinkedList.remove(2)\n",
    "test_LinkedList.print_linked_list()"
   ]
  },
  {
   "cell_type": "code",
   "execution_count": 74,
   "metadata": {},
   "outputs": [
    {
     "name": "stdout",
     "output_type": "stream",
     "text": [
      "4 3 b 1 a \n",
      "Length = 5\n"
     ]
    }
   ],
   "source": [
    "test_LinkedList.reverse()\n",
    "test_LinkedList.print_linked_list()"
   ]
  },
  {
   "cell_type": "code",
   "execution_count": null,
   "metadata": {},
   "outputs": [],
   "source": []
  },
  {
   "cell_type": "code",
   "execution_count": null,
   "metadata": {},
   "outputs": [],
   "source": []
  },
  {
   "cell_type": "code",
   "execution_count": null,
   "metadata": {},
   "outputs": [],
   "source": []
  },
  {
   "cell_type": "code",
   "execution_count": null,
   "metadata": {},
   "outputs": [],
   "source": []
  },
  {
   "cell_type": "code",
   "execution_count": null,
   "metadata": {},
   "outputs": [],
   "source": []
  },
  {
   "cell_type": "code",
   "execution_count": null,
   "metadata": {},
   "outputs": [],
   "source": []
  },
  {
   "cell_type": "code",
   "execution_count": null,
   "metadata": {},
   "outputs": [],
   "source": []
  },
  {
   "cell_type": "code",
   "execution_count": null,
   "metadata": {},
   "outputs": [],
   "source": []
  },
  {
   "cell_type": "code",
   "execution_count": null,
   "metadata": {},
   "outputs": [],
   "source": []
  },
  {
   "cell_type": "code",
   "execution_count": null,
   "metadata": {},
   "outputs": [],
   "source": []
  },
  {
   "cell_type": "code",
   "execution_count": null,
   "metadata": {},
   "outputs": [],
   "source": []
  }
 ],
 "metadata": {
  "kernelspec": {
   "display_name": "Python 3",
   "language": "python",
   "name": "python3"
  },
  "language_info": {
   "codemirror_mode": {
    "name": "ipython",
    "version": 3
   },
   "file_extension": ".py",
   "mimetype": "text/x-python",
   "name": "python",
   "nbconvert_exporter": "python",
   "pygments_lexer": "ipython3",
   "version": "3.7.7"
  }
 },
 "nbformat": 4,
 "nbformat_minor": 4
}
