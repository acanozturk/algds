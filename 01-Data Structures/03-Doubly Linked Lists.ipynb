{
 "cells": [
  {
   "cell_type": "code",
   "execution_count": 1,
   "metadata": {},
   "outputs": [],
   "source": [
    "class Node:\n",
    "    \n",
    "    def __init__(self, data):\n",
    "        \n",
    "        self.data = data\n",
    "        self.next = None\n",
    "        self.previous = None\n",
    "        "
   ]
  },
  {
   "cell_type": "code",
   "execution_count": 2,
   "metadata": {},
   "outputs": [],
   "source": [
    "class DoublyLinkedList:\n",
    "    \n",
    "    def __init__(self):\n",
    "        \n",
    "        self.head = None\n",
    "        self.tail = None\n",
    "        \n",
    "\n",
    "    def traverse_to_index(self, traverse_index):\n",
    "        \n",
    "        i = 0\n",
    "        current_node = self.head\n",
    "        \n",
    "        while i != traverse_index:\n",
    "            \n",
    "            current_node = current_node.next\n",
    "            i += 1\n",
    "            \n",
    "        return current_node\n",
    "\n",
    "    \n",
    "    def append(self, append_new_data):\n",
    "        \n",
    "        append_new_node = Node(append_new_data)\n",
    "        \n",
    "        if self.head == None:\n",
    "            \n",
    "            self.head = append_new_node\n",
    "            self.tail = self.head\n",
    "            self.length = 1\n",
    "            \n",
    "        else:\n",
    "            \n",
    "            self.tail.next = append_new_node\n",
    "            append_new_node.previous = self.tail\n",
    "            self.tail = append_new_node\n",
    "            self.length += 1\n",
    "        \n",
    "    \n",
    "    def prepend(self, prepend_new_data):\n",
    "        \n",
    "        prepend_new_node = Node(prepend_new_data)\n",
    "    \n",
    "        prepend_new_node.next = self.head\n",
    "        self.head.previous = prepend_new_node \n",
    "        self.head = prepend_new_node\n",
    "        self.length += 1\n",
    "            \n",
    "     \n",
    "    def insert(self, insert_index, insert_new_data):\n",
    "        \n",
    "        insert_new_node = Node(insert_new_data)\n",
    "        \n",
    "        i = 0\n",
    "        insert_temp = self.head\n",
    "        \n",
    "        if insert_index > self.length:\n",
    "            \n",
    "            self.append(insert_new_data)\n",
    "            return\n",
    "            \n",
    "        if insert_index == 0:\n",
    "            \n",
    "            self.prepend(insert_new_data)\n",
    "            return\n",
    "            \n",
    "        else:\n",
    "            \n",
    "            leader = self.traverse_to_index(insert_index - 1)\n",
    "            holder = leader.next\n",
    "            \n",
    "            leader.next = insert_new_node\n",
    "            insert_new_node.next = holder\n",
    "            insert_new_node.previous = leader\n",
    "            holder.previous = insert_new_node\n",
    "            \n",
    "            self.length += 1\n",
    "            \n",
    "            \n",
    "    def remove(self, remove_index):\n",
    "        \n",
    "        i = 0\n",
    "        remove_temp = self.head\n",
    "        \n",
    "        if remove_index == 0:\n",
    "            \n",
    "            self.head = self.head.next\n",
    "            self.length -= 1\n",
    "            return\n",
    "        \n",
    "        if remove_index == self.length - 1:\n",
    "            \n",
    "            self.tail = self.tail.previous\n",
    "            self.tail.next = None\n",
    "            self.length -= 1\n",
    "            return\n",
    "        \n",
    "        leader = self.traverse_to_index(remove_index - 1)\n",
    "        removed_node = leader.next\n",
    "        holder = removed_node.next\n",
    "        leader.next = holder\n",
    "        holder.previous = leader\n",
    "        self.length -= 1\n",
    "        \n",
    "     \n",
    "    def print_linked_list(self):\n",
    "        \n",
    "        print_temp = self.head\n",
    "        \n",
    "        while print_temp != None:\n",
    "            \n",
    "            print(print_temp.data, end = ' ')\n",
    "            print_temp = print_temp.next\n",
    "            \n",
    "        print(f\"\\nLength = {self.length}\")"
   ]
  },
  {
   "cell_type": "code",
   "execution_count": 3,
   "metadata": {},
   "outputs": [],
   "source": [
    "test_DoublyLinkedList = DoublyLinkedList()"
   ]
  },
  {
   "cell_type": "code",
   "execution_count": 4,
   "metadata": {},
   "outputs": [
    {
     "name": "stdout",
     "output_type": "stream",
     "text": [
      "1 2 3 4 \n",
      "Length = 4\n"
     ]
    }
   ],
   "source": [
    "test_DoublyLinkedList.append(1)\n",
    "test_DoublyLinkedList.append(2)\n",
    "test_DoublyLinkedList.append(3)\n",
    "test_DoublyLinkedList.append(4)\n",
    "test_DoublyLinkedList.print_linked_list()"
   ]
  },
  {
   "cell_type": "code",
   "execution_count": 5,
   "metadata": {},
   "outputs": [
    {
     "name": "stdout",
     "output_type": "stream",
     "text": [
      "a 1 2 3 4 \n",
      "Length = 5\n"
     ]
    }
   ],
   "source": [
    "test_DoublyLinkedList.prepend(\"a\")\n",
    "test_DoublyLinkedList.print_linked_list()"
   ]
  },
  {
   "cell_type": "code",
   "execution_count": 6,
   "metadata": {},
   "outputs": [
    {
     "name": "stdout",
     "output_type": "stream",
     "text": [
      "a 1 b 2 3 4 \n",
      "Length = 6\n"
     ]
    }
   ],
   "source": [
    "test_DoublyLinkedList.insert(2, \"b\")\n",
    "test_DoublyLinkedList.print_linked_list()"
   ]
  },
  {
   "cell_type": "code",
   "execution_count": 7,
   "metadata": {},
   "outputs": [
    {
     "name": "stdout",
     "output_type": "stream",
     "text": [
      "a 1 b 3 4 \n",
      "Length = 5\n"
     ]
    }
   ],
   "source": [
    "test_DoublyLinkedList.remove(3)\n",
    "test_DoublyLinkedList.print_linked_list()"
   ]
  },
  {
   "cell_type": "code",
   "execution_count": null,
   "metadata": {},
   "outputs": [],
   "source": []
  }
 ],
 "metadata": {
  "kernelspec": {
   "display_name": "Python 3",
   "language": "python",
   "name": "python3"
  },
  "language_info": {
   "codemirror_mode": {
    "name": "ipython",
    "version": 3
   },
   "file_extension": ".py",
   "mimetype": "text/x-python",
   "name": "python",
   "nbconvert_exporter": "python",
   "pygments_lexer": "ipython3",
   "version": "3.7.7"
  }
 },
 "nbformat": 4,
 "nbformat_minor": 4
}
