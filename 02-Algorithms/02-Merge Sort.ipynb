{
 "cells": [
  {
   "cell_type": "code",
   "execution_count": 1,
   "metadata": {},
   "outputs": [],
   "source": [
    "class MergeSort:\n",
    "    \n",
    "    def __init__(self, data):\n",
    "        \n",
    "        self.data = data\n",
    "        self.length = len(data)\n",
    "        \n",
    "    \n",
    "    def __repr__(self):\n",
    "        \n",
    "        return str(self.__dict__)\n",
    "    \n",
    "    \n",
    "    def sort(self, data):\n",
    "        \n",
    "        length = len(data)\n",
    "        \n",
    "        if length > 1:\n",
    "            \n",
    "            mid = length // 2\n",
    "        \n",
    "            left = data[:mid]\n",
    "            right = data[mid:]\n",
    "           \n",
    "            self.sort(left)\n",
    "            self.sort(right)\n",
    "            \n",
    "            i = 0\n",
    "            j = 0\n",
    "            k = 0\n",
    "\n",
    "            while i < len(left) and j < len(right):\n",
    "\n",
    "                if left[i] < right[j]:\n",
    "\n",
    "                    data[k] = left[i]\n",
    "                    i += 1\n",
    "\n",
    "                else:\n",
    "\n",
    "                    data[k] = right[j]\n",
    "                    j += 1\n",
    "\n",
    "                k += 1\n",
    "\n",
    "            while i < len(left):\n",
    "\n",
    "                data[k] = left[i]\n",
    "                i += 1\n",
    "                k += 1\n",
    "\n",
    "            while j < len(right):\n",
    "\n",
    "                data[k] = right[j]\n",
    "                j += 1\n",
    "                k += 1\n",
    "            \n",
    "        return self.__repr__()       \n"
   ]
  },
  {
   "cell_type": "code",
   "execution_count": 2,
   "metadata": {},
   "outputs": [],
   "source": [
    "arr = [1,3,7,5,8,11,4,45,7,99,54,3,5,576,7,8,99,1,2,434,21,32]"
   ]
  },
  {
   "cell_type": "code",
   "execution_count": 3,
   "metadata": {},
   "outputs": [],
   "source": [
    "ms = MergeSort(arr)"
   ]
  },
  {
   "cell_type": "code",
   "execution_count": 4,
   "metadata": {},
   "outputs": [
    {
     "data": {
      "text/plain": [
       "\"{'data': [1, 1, 2, 3, 3, 4, 5, 5, 7, 7, 7, 8, 8, 11, 21, 32, 45, 54, 99, 99, 434, 576], 'length': 22}\""
      ]
     },
     "execution_count": 4,
     "metadata": {},
     "output_type": "execute_result"
    }
   ],
   "source": [
    "ms.sort(arr)"
   ]
  },
  {
   "cell_type": "code",
   "execution_count": 31,
   "metadata": {},
   "outputs": [],
   "source": [
    "import timeit"
   ]
  },
  {
   "cell_type": "code",
   "execution_count": 34,
   "metadata": {},
   "outputs": [
    {
     "name": "stdout",
     "output_type": "stream",
     "text": [
      "136 µs ± 1.31 µs per loop (mean ± std. dev. of 7 runs, 10000 loops each)\n"
     ]
    }
   ],
   "source": [
    "%%timeit\n",
    "ms.sort(arr)"
   ]
  }
 ],
 "metadata": {
  "kernelspec": {
   "display_name": "Python 3",
   "language": "python",
   "name": "python3"
  },
  "language_info": {
   "codemirror_mode": {
    "name": "ipython",
    "version": 3
   },
   "file_extension": ".py",
   "mimetype": "text/x-python",
   "name": "python",
   "nbconvert_exporter": "python",
   "pygments_lexer": "ipython3",
   "version": "3.7.7"
  }
 },
 "nbformat": 4,
 "nbformat_minor": 4
}
