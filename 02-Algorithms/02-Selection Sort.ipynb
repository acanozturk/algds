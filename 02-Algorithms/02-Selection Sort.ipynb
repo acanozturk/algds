{
 "cells": [
  {
   "cell_type": "code",
   "execution_count": 28,
   "metadata": {},
   "outputs": [],
   "source": [
    "class SelectionSort:\n",
    "    \n",
    "    def __init__(self, data):\n",
    "        \n",
    "        self.data = data\n",
    "        self.length = len(data)\n",
    "        \n",
    "        \n",
    "    def __repr__(self):\n",
    "        \n",
    "        return str(self.__dict__)\n",
    "    \n",
    "    \n",
    "    def sort(self):\n",
    "  \n",
    "        for i in range(self.length):\n",
    "            \n",
    "            for j in range(i+1, self.length):\n",
    "                \n",
    "                if self.data[i+1] > self.data[j]:\n",
    "  \n",
    "                    self.data[j], self.data[i+1] = self.data[i+1], self.data[j]\n",
    "        \n",
    "        return self.__repr__()\n",
    "                          "
   ]
  },
  {
   "cell_type": "code",
   "execution_count": 32,
   "metadata": {},
   "outputs": [],
   "source": [
    "arr = [1,3,7,5,8,11,4,45,7,99,54,3,5,576,7,8,99,1,2,434,21,32]"
   ]
  },
  {
   "cell_type": "code",
   "execution_count": 33,
   "metadata": {},
   "outputs": [],
   "source": [
    "ss = SelectionSort(arr)"
   ]
  },
  {
   "cell_type": "code",
   "execution_count": 36,
   "metadata": {},
   "outputs": [
    {
     "data": {
      "text/plain": [
       "\"{'data': [1, 1, 2, 3, 3, 4, 5, 5, 7, 7, 7, 8, 8, 11, 21, 32, 45, 54, 99, 99, 434, 576], 'length': 22}\""
      ]
     },
     "execution_count": 36,
     "metadata": {},
     "output_type": "execute_result"
    }
   ],
   "source": [
    "ss.sort()"
   ]
  },
  {
   "cell_type": "code",
   "execution_count": 34,
   "metadata": {},
   "outputs": [],
   "source": [
    "import timeit"
   ]
  },
  {
   "cell_type": "code",
   "execution_count": 35,
   "metadata": {},
   "outputs": [
    {
     "name": "stdout",
     "output_type": "stream",
     "text": [
      "30 µs ± 1.13 µs per loop (mean ± std. dev. of 7 runs, 10000 loops each)\n"
     ]
    }
   ],
   "source": [
    "%%timeit\n",
    "ss.sort()"
   ]
  }
 ],
 "metadata": {
  "kernelspec": {
   "display_name": "Python 3",
   "language": "python",
   "name": "python3"
  },
  "language_info": {
   "codemirror_mode": {
    "name": "ipython",
    "version": 3
   },
   "file_extension": ".py",
   "mimetype": "text/x-python",
   "name": "python",
   "nbconvert_exporter": "python",
   "pygments_lexer": "ipython3",
   "version": "3.7.7"
  }
 },
 "nbformat": 4,
 "nbformat_minor": 4
}
