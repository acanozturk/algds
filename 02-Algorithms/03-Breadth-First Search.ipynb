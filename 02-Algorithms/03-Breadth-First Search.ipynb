{
 "cells": [
  {
   "cell_type": "code",
   "execution_count": 32,
   "metadata": {},
   "outputs": [],
   "source": [
    "class Node:\n",
    "    \n",
    "    def __init__(self, data):\n",
    "        \n",
    "        self.data = data\n",
    "        self.left = None\n",
    "        self.right = None\n"
   ]
  },
  {
   "cell_type": "code",
   "execution_count": 33,
   "metadata": {},
   "outputs": [],
   "source": [
    "class BinarySearchTree:\n",
    "    \n",
    "    def __init__(self):\n",
    "        \n",
    "        self.root = None\n",
    "    \n",
    "    \n",
    "    def insert(self, new_data):\n",
    "        \n",
    "        new_node = Node(new_data)\n",
    "        \n",
    "        if self.root == None:\n",
    "            \n",
    "            self.root = new_node\n",
    "            return\n",
    "            \n",
    "        else:\n",
    "            \n",
    "            current_node = self.root\n",
    "            \n",
    "            while True:\n",
    "                \n",
    "                if new_data < current_node.data:\n",
    "                    \n",
    "                    if current_node.left == None:\n",
    "                        \n",
    "                        current_node.left = new_node\n",
    "                        break\n",
    "                    \n",
    "                    else:\n",
    "                        \n",
    "                        current_node = current_node.left\n",
    "                \n",
    "                elif new_data > current_node.data:\n",
    "                \n",
    "                    if current_node.right == None:\n",
    "                        \n",
    "                        current_node.right = new_node\n",
    "                        break\n",
    "                    \n",
    "                    else:\n",
    "                        \n",
    "                        current_node = current_node.right\n",
    "                        \n",
    "                        \n",
    "    def lookup(self, data):\n",
    "        \n",
    "        current_node = self.root\n",
    "    \n",
    "        while True:\n",
    "            \n",
    "            if current_node.data == None:\n",
    "                \n",
    "                return False\n",
    "            \n",
    "            elif data == current_node.data:\n",
    "                \n",
    "                return True\n",
    "            \n",
    "            elif data < current_node.data:\n",
    "            \n",
    "                current_node = current_node.left\n",
    "                \n",
    "            else:\n",
    "                \n",
    "                current_node = current_node.right\n",
    "    \n",
    "    \n",
    "    def _traverse(self, current_node):\n",
    "        \n",
    "        if current_node != None:\n",
    "            \n",
    "            self._traverse(current_node.left)\n",
    "            print(str(current_node.data))\n",
    "            self._traverse(current_node.right)\n",
    "    \n",
    "    \n",
    "    def bfs_iter(self):\n",
    "        \n",
    "        current_node = self.root\n",
    "        lis = []\n",
    "        queue = []\n",
    "        queue.append(current_node)\n",
    "        \n",
    "        while len(queue) > 0:\n",
    "            \n",
    "            current_node = queue[0]\n",
    "            del queue[0]\n",
    "            lis.append(current_node.data)\n",
    "            \n",
    "            if current_node.left:\n",
    "                \n",
    "                queue.append(current_node.left)\n",
    "                \n",
    "            if current_node.right:\n",
    "                \n",
    "                queue.append(current_node.right)\n",
    "                \n",
    "        return lis\n",
    "            \n",
    "    \n",
    "    def bfs_recur(self, queue, lis):\n",
    "        \n",
    "        if len(queue) == 0:\n",
    "            \n",
    "            return lis\n",
    "        \n",
    "        current_node = queue[0]\n",
    "        del queue[0]\n",
    "        lis.append(current_node.data)\n",
    "        \n",
    "        if current_node.left:\n",
    "                \n",
    "            queue.append(current_node.left)\n",
    "                \n",
    "        if current_node.right:\n",
    "                \n",
    "            queue.append(current_node.right)\n",
    "            \n",
    "        return self.bfs_recur(queue, lis)\n",
    "                \n",
    "    \n",
    "    def print_tree(self):\n",
    "        \n",
    "        if self.root != None:\n",
    "            \n",
    "            self._traverse(self.root)\n",
    "            "
   ]
  },
  {
   "cell_type": "code",
   "execution_count": 34,
   "metadata": {},
   "outputs": [],
   "source": [
    "bst = BinarySearchTree()"
   ]
  },
  {
   "cell_type": "code",
   "execution_count": 35,
   "metadata": {},
   "outputs": [
    {
     "name": "stdout",
     "output_type": "stream",
     "text": [
      "4\n",
      "14\n",
      "30\n",
      "45\n",
      "50\n",
      "67\n",
      "78\n"
     ]
    }
   ],
   "source": [
    "bst.insert(50)\n",
    "bst.insert(45)\n",
    "bst.insert(67)\n",
    "bst.insert(4)\n",
    "bst.insert(30)\n",
    "bst.insert(14)\n",
    "bst.insert(78)\n",
    "bst.print_tree()"
   ]
  },
  {
   "cell_type": "code",
   "execution_count": 30,
   "metadata": {},
   "outputs": [
    {
     "data": {
      "text/plain": [
       "[50, 45, 67, 4, 78, 30, 14]"
      ]
     },
     "execution_count": 30,
     "metadata": {},
     "output_type": "execute_result"
    }
   ],
   "source": [
    "bst.bfs_iter()"
   ]
  },
  {
   "cell_type": "code",
   "execution_count": 31,
   "metadata": {},
   "outputs": [
    {
     "data": {
      "text/plain": [
       "[50, 45, 67, 4, 78, 30, 14]"
      ]
     },
     "execution_count": 31,
     "metadata": {},
     "output_type": "execute_result"
    }
   ],
   "source": [
    "bst.bfs_recur([bst.root],[])"
   ]
  },
  {
   "cell_type": "code",
   "execution_count": 40,
   "metadata": {},
   "outputs": [],
   "source": [
    "bst2 = BinarySearchTree()"
   ]
  },
  {
   "cell_type": "code",
   "execution_count": 41,
   "metadata": {},
   "outputs": [
    {
     "name": "stdout",
     "output_type": "stream",
     "text": [
      "1\n",
      "4\n",
      "6\n",
      "9\n",
      "15\n",
      "20\n",
      "170\n"
     ]
    }
   ],
   "source": [
    "bst2.insert(9)\n",
    "bst2.insert(4)\n",
    "bst2.insert(6)\n",
    "bst2.insert(20)\n",
    "bst2.insert(170)\n",
    "bst2.insert(15)\n",
    "bst2.insert(1)\n",
    "bst2.print_tree()"
   ]
  },
  {
   "cell_type": "code",
   "execution_count": 42,
   "metadata": {},
   "outputs": [
    {
     "data": {
      "text/plain": [
       "[9, 4, 20, 1, 6, 15, 170]"
      ]
     },
     "execution_count": 42,
     "metadata": {},
     "output_type": "execute_result"
    }
   ],
   "source": [
    "bst2.bfs_iter()"
   ]
  }
 ],
 "metadata": {
  "kernelspec": {
   "display_name": "Python 3",
   "language": "python",
   "name": "python3"
  },
  "language_info": {
   "codemirror_mode": {
    "name": "ipython",
    "version": 3
   },
   "file_extension": ".py",
   "mimetype": "text/x-python",
   "name": "python",
   "nbconvert_exporter": "python",
   "pygments_lexer": "ipython3",
   "version": "3.7.7"
  }
 },
 "nbformat": 4,
 "nbformat_minor": 4
}
