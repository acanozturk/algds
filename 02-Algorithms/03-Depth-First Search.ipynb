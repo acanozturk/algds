{
 "cells": [
  {
   "cell_type": "code",
   "execution_count": 1,
   "metadata": {},
   "outputs": [],
   "source": [
    "class Node:\n",
    "    \n",
    "    def __init__(self, data):\n",
    "        \n",
    "        self.data = data\n",
    "        self.left = None\n",
    "        self.right = None\n"
   ]
  },
  {
   "cell_type": "code",
   "execution_count": 59,
   "metadata": {},
   "outputs": [],
   "source": [
    "class BinarySearchTree:\n",
    "    \n",
    "    def __init__(self):\n",
    "        \n",
    "        self.root = None\n",
    "    \n",
    "    \n",
    "    def insert(self, new_data):\n",
    "        \n",
    "        new_node = Node(new_data)\n",
    "        \n",
    "        if self.root == None:\n",
    "            \n",
    "            self.root = new_node\n",
    "            return\n",
    "            \n",
    "        else:\n",
    "            \n",
    "            current_node = self.root\n",
    "            \n",
    "            while True:\n",
    "                \n",
    "                if new_data < current_node.data:\n",
    "                    \n",
    "                    if current_node.left == None:\n",
    "                        \n",
    "                        current_node.left = new_node\n",
    "                        break\n",
    "                    \n",
    "                    else:\n",
    "                        \n",
    "                        current_node = current_node.left\n",
    "                \n",
    "                elif new_data > current_node.data:\n",
    "                \n",
    "                    if current_node.right == None:\n",
    "                        \n",
    "                        current_node.right = new_node\n",
    "                        break\n",
    "                    \n",
    "                    else:\n",
    "                        \n",
    "                        current_node = current_node.right\n",
    "                        \n",
    "                        \n",
    "    def lookup(self, data):\n",
    "        \n",
    "        current_node = self.root\n",
    "    \n",
    "        while True:\n",
    "            \n",
    "            if current_node.data == None:\n",
    "                \n",
    "                return False\n",
    "            \n",
    "            elif data == current_node.data:\n",
    "                \n",
    "                return True\n",
    "            \n",
    "            elif data < current_node.data:\n",
    "            \n",
    "                current_node = current_node.left\n",
    "                \n",
    "            else:\n",
    "                \n",
    "                current_node = current_node.right\n",
    "    \n",
    "    \n",
    "    def _traverse(self, current_node):\n",
    "        \n",
    "        if current_node != None:\n",
    "            \n",
    "            self._traverse(current_node.left)\n",
    "            print(str(current_node.data))\n",
    "            self._traverse(current_node.right)\n",
    "            \n",
    "            \n",
    "    def in_order(self, current_node, lis):\n",
    "        \n",
    "        if current_node != None:\n",
    "            \n",
    "            self.in_order(current_node.left, lis)\n",
    "            lis.append(current_node.data)\n",
    "            self.in_order(current_node.right, lis)\n",
    "            \n",
    "        return lis\n",
    "   \n",
    "\n",
    "    def pre_order(self, current_node, lis):\n",
    "        \n",
    "        if current_node != None:\n",
    "            \n",
    "            lis.append(current_node.data)\n",
    "            self.in_order(current_node.left, lis)\n",
    "            self.in_order(current_node.right, lis)\n",
    "            \n",
    "        return lis\n",
    "    \n",
    "    \n",
    "    def post_order(self, current_node, lis):\n",
    "        \n",
    "        if current_node.left:\n",
    "          \n",
    "            self.post_order(current_node.left, lis)\n",
    "        \n",
    "        if current_node.right:\n",
    "            \n",
    "            self.post_order(current_node.right, lis)\n",
    "            \n",
    "        lis.append(current_node.data)\n",
    "            \n",
    "        return lis\n",
    "    \n",
    "\n",
    "    def print_tree(self):\n",
    "        \n",
    "        if self.root != None:\n",
    "            \n",
    "            self._traverse(self.root)\n",
    "            "
   ]
  },
  {
   "cell_type": "code",
   "execution_count": 60,
   "metadata": {},
   "outputs": [],
   "source": [
    "bst = BinarySearchTree()"
   ]
  },
  {
   "cell_type": "code",
   "execution_count": 61,
   "metadata": {},
   "outputs": [
    {
     "name": "stdout",
     "output_type": "stream",
     "text": [
      "1\n",
      "4\n",
      "6\n",
      "9\n",
      "15\n",
      "20\n",
      "170\n"
     ]
    }
   ],
   "source": [
    "bst.insert(9)\n",
    "bst.insert(4)\n",
    "bst.insert(6)\n",
    "bst.insert(20)\n",
    "bst.insert(170)\n",
    "bst.insert(15)\n",
    "bst.insert(1)\n",
    "bst.print_tree()"
   ]
  },
  {
   "cell_type": "code",
   "execution_count": 62,
   "metadata": {},
   "outputs": [
    {
     "data": {
      "text/plain": [
       "[1, 4, 6, 9, 15, 20, 170]"
      ]
     },
     "execution_count": 62,
     "metadata": {},
     "output_type": "execute_result"
    }
   ],
   "source": [
    "bst.in_order(bst.root, [])"
   ]
  },
  {
   "cell_type": "code",
   "execution_count": 63,
   "metadata": {},
   "outputs": [
    {
     "data": {
      "text/plain": [
       "[9, 1, 4, 6, 15, 20, 170]"
      ]
     },
     "execution_count": 63,
     "metadata": {},
     "output_type": "execute_result"
    }
   ],
   "source": [
    "bst.pre_order(bst.root, [])"
   ]
  },
  {
   "cell_type": "code",
   "execution_count": 64,
   "metadata": {},
   "outputs": [
    {
     "data": {
      "text/plain": [
       "[1, 6, 4, 15, 170, 20, 9]"
      ]
     },
     "execution_count": 64,
     "metadata": {},
     "output_type": "execute_result"
    }
   ],
   "source": [
    "bst.post_order(bst.root, [])"
   ]
  },
  {
   "cell_type": "code",
   "execution_count": null,
   "metadata": {},
   "outputs": [],
   "source": []
  },
  {
   "cell_type": "code",
   "execution_count": null,
   "metadata": {},
   "outputs": [],
   "source": []
  },
  {
   "cell_type": "code",
   "execution_count": null,
   "metadata": {},
   "outputs": [],
   "source": []
  },
  {
   "cell_type": "code",
   "execution_count": null,
   "metadata": {},
   "outputs": [],
   "source": []
  }
 ],
 "metadata": {
  "kernelspec": {
   "display_name": "Python 3",
   "language": "python",
   "name": "python3"
  },
  "language_info": {
   "codemirror_mode": {
    "name": "ipython",
    "version": 3
   },
   "file_extension": ".py",
   "mimetype": "text/x-python",
   "name": "python",
   "nbconvert_exporter": "python",
   "pygments_lexer": "ipython3",
   "version": "3.7.7"
  }
 },
 "nbformat": 4,
 "nbformat_minor": 4
}
