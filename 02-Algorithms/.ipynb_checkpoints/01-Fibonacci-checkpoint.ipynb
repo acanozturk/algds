{
 "cells": [
  {
   "cell_type": "code",
   "execution_count": 90,
   "metadata": {},
   "outputs": [],
   "source": [
    "# Recursive O(2^n)\n",
    "def fib_rec(n):\n",
    "    \n",
    "    if n < 0:\n",
    "        \n",
    "        raise ValueError(\"Number can't be less than 0\")\n",
    "    \n",
    "    if n in (0,1):\n",
    "        \n",
    "        return n\n",
    "    \n",
    "    return fib_rec(n-1) + fib_rec(n-2)\n"
   ]
  },
  {
   "cell_type": "code",
   "execution_count": 105,
   "metadata": {},
   "outputs": [],
   "source": [
    "# Iterative : O(n)\n",
    "def fib_iter(n):\n",
    "    \n",
    "    if n < 0:\n",
    "        \n",
    "        raise ValueError(\"Number can't be less than 0\")\n",
    "    \n",
    "    if n in (0,1):\n",
    "        \n",
    "        return n\n",
    "    \n",
    "    seq = [0,1]\n",
    "    \n",
    "    for i in range(n-1):\n",
    "    \n",
    "        a = seq[i] + seq[i+1]\n",
    "        seq.append(a)\n",
    "    \n",
    "    return seq\n"
   ]
  },
  {
   "cell_type": "code",
   "execution_count": 106,
   "metadata": {},
   "outputs": [
    {
     "data": {
      "text/plain": [
       "[0, 1, 1, 2, 3, 5, 8, 13, 21, 34, 55, 89, 144, 233, 377, 610]"
      ]
     },
     "execution_count": 106,
     "metadata": {},
     "output_type": "execute_result"
    }
   ],
   "source": [
    "fib_iter(15)"
   ]
  },
  {
   "cell_type": "code",
   "execution_count": 111,
   "metadata": {},
   "outputs": [
    {
     "data": {
      "text/plain": [
       "610"
      ]
     },
     "execution_count": 111,
     "metadata": {},
     "output_type": "execute_result"
    }
   ],
   "source": [
    "fib_rec(15)"
   ]
  }
 ],
 "metadata": {
  "kernelspec": {
   "display_name": "Python 3",
   "language": "python",
   "name": "python3"
  },
  "language_info": {
   "codemirror_mode": {
    "name": "ipython",
    "version": 3
   },
   "file_extension": ".py",
   "mimetype": "text/x-python",
   "name": "python",
   "nbconvert_exporter": "python",
   "pygments_lexer": "ipython3",
   "version": "3.7.7"
  }
 },
 "nbformat": 4,
 "nbformat_minor": 4
}
