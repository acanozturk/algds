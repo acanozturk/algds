{
 "cells": [
  {
   "cell_type": "code",
   "execution_count": 13,
   "metadata": {},
   "outputs": [],
   "source": [
    "def reverse(string):\n",
    "    \n",
    "    length = len(string)\n",
    "    \n",
    "    if length == 0:\n",
    "        \n",
    "        return \n",
    "    \n",
    "    last_char = string[length - 1]\n",
    "    print(last_char, end = '')\n",
    "    \n",
    "    return reverse(string[0:length - 1])\n",
    "    "
   ]
  },
  {
   "cell_type": "code",
   "execution_count": 15,
   "metadata": {},
   "outputs": [
    {
     "name": "stdout",
     "output_type": "stream",
     "text": [
      "ereht olleh"
     ]
    }
   ],
   "source": [
    "reverse('hello there')"
   ]
  }
 ],
 "metadata": {
  "kernelspec": {
   "display_name": "Python 3",
   "language": "python",
   "name": "python3"
  },
  "language_info": {
   "codemirror_mode": {
    "name": "ipython",
    "version": 3
   },
   "file_extension": ".py",
   "mimetype": "text/x-python",
   "name": "python",
   "nbconvert_exporter": "python",
   "pygments_lexer": "ipython3",
   "version": "3.7.7"
  }
 },
 "nbformat": 4,
 "nbformat_minor": 4
}
