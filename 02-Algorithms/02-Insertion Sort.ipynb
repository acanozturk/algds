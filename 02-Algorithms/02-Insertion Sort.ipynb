{
 "cells": [
  {
   "cell_type": "code",
   "execution_count": 32,
   "metadata": {},
   "outputs": [],
   "source": [
    "class InsertionSort:\n",
    "    \n",
    "    def __init__(self, data):\n",
    "        \n",
    "        self.data = data\n",
    "        self.length = len(data)\n",
    "        \n",
    "        \n",
    "    def __repr__(self):\n",
    "        \n",
    "        return str(self.__dict__)\n",
    "    \n",
    "    \n",
    "    def sort(self):\n",
    " \n",
    "        for i in range(1, self.length):\n",
    "            \n",
    "            j = i - 1\n",
    "            \n",
    "            temp = self.data[i]\n",
    "            \n",
    "            while j >= 0 and temp < self.data[j]:\n",
    "                \n",
    "                self.data[j+1] = self.data[j]\n",
    "                j -= 1\n",
    "                    \n",
    "            self.data[j+1] = temp\n",
    "       \n",
    "        return self.__repr__()\n",
    "                  "
   ]
  },
  {
   "cell_type": "code",
   "execution_count": 36,
   "metadata": {},
   "outputs": [],
   "source": [
    "arr = [1,3,7,5,8,11,4,45,7,99,54,3,5,576,7,8,99,1,2,434,21,32]"
   ]
  },
  {
   "cell_type": "code",
   "execution_count": 37,
   "metadata": {},
   "outputs": [],
   "source": [
    "ins = InsertionSort(arr)"
   ]
  },
  {
   "cell_type": "code",
   "execution_count": 40,
   "metadata": {},
   "outputs": [
    {
     "data": {
      "text/plain": [
       "\"{'data': [1, 1, 2, 3, 3, 4, 5, 5, 7, 7, 7, 8, 8, 11, 21, 32, 45, 54, 99, 99, 434, 576], 'length': 22}\""
      ]
     },
     "execution_count": 40,
     "metadata": {},
     "output_type": "execute_result"
    }
   ],
   "source": [
    "ins.sort()"
   ]
  },
  {
   "cell_type": "code",
   "execution_count": 38,
   "metadata": {},
   "outputs": [],
   "source": [
    "import timeit"
   ]
  },
  {
   "cell_type": "code",
   "execution_count": 39,
   "metadata": {},
   "outputs": [
    {
     "name": "stdout",
     "output_type": "stream",
     "text": [
      "7.78 µs ± 285 ns per loop (mean ± std. dev. of 7 runs, 100000 loops each)\n"
     ]
    }
   ],
   "source": [
    "%%timeit\n",
    "ins.sort()"
   ]
  }
 ],
 "metadata": {
  "kernelspec": {
   "display_name": "Python 3",
   "language": "python",
   "name": "python3"
  },
  "language_info": {
   "codemirror_mode": {
    "name": "ipython",
    "version": 3
   },
   "file_extension": ".py",
   "mimetype": "text/x-python",
   "name": "python",
   "nbconvert_exporter": "python",
   "pygments_lexer": "ipython3",
   "version": "3.7.7"
  }
 },
 "nbformat": 4,
 "nbformat_minor": 4
}
